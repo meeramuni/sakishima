{
 "cells": [
  {
   "cell_type": "markdown",
   "id": "5476ad60-240a-496c-9544-aaf8f37d3160",
   "metadata": {},
   "source": [
    "# Make lesson file\n",
    "This script will read a CSV file and turn it into an XML file"
   ]
  },
  {
   "cell_type": "code",
   "execution_count": 1,
   "id": "784e7ce7-adbe-4ee3-8d81-1c4a35fb8609",
   "metadata": {},
   "outputs": [],
   "source": [
    "import pandas as pd\n",
    "from xml.dom import minidom\n",
    "import xml.etree.ElementTree as ET\n",
    "import lxml"
   ]
  },
  {
   "cell_type": "code",
   "execution_count": null,
   "id": "726113e7-f8c7-44bc-91ab-c7a257898f81",
   "metadata": {},
   "outputs": [],
   "source": []
  }
 ],
 "metadata": {
  "kernelspec": {
   "display_name": "Python 3",
   "language": "python",
   "name": "python3"
  },
  "language_info": {
   "codemirror_mode": {
    "name": "ipython",
    "version": 3
   },
   "file_extension": ".py",
   "mimetype": "text/x-python",
   "name": "python",
   "nbconvert_exporter": "python",
   "pygments_lexer": "ipython3",
   "version": "3.7.3"
  }
 },
 "nbformat": 4,
 "nbformat_minor": 5
}
